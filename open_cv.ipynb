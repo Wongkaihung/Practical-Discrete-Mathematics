{
  "nbformat": 4,
  "nbformat_minor": 0,
  "metadata": {
    "colab": {
      "provenance": [],
      "authorship_tag": "ABX9TyMbHoOYNHHHCBlL5sYL/3mT",
      "include_colab_link": true
    },
    "kernelspec": {
      "name": "python3",
      "display_name": "Python 3"
    },
    "language_info": {
      "name": "python"
    }
  },
  "cells": [
    {
      "cell_type": "markdown",
      "metadata": {
        "id": "view-in-github",
        "colab_type": "text"
      },
      "source": [
        "<a href=\"https://colab.research.google.com/github/Wongkaihung/Practical-Discrete-Mathematics/blob/master/open_cv.ipynb\" target=\"_parent\"><img src=\"https://colab.research.google.com/assets/colab-badge.svg\" alt=\"Open In Colab\"/></a>"
      ]
    },
    {
      "cell_type": "code",
      "source": [
        "!pip install pillow requests"
      ],
      "metadata": {
        "colab": {
          "base_uri": "https://localhost:8080/"
        },
        "id": "yotLe1piAZ6S",
        "outputId": "6932202f-146d-40ff-8410-02112e851e1b"
      },
      "execution_count": 3,
      "outputs": [
        {
          "output_type": "stream",
          "name": "stdout",
          "text": [
            "Requirement already satisfied: pillow in /usr/local/lib/python3.10/dist-packages (11.0.0)\n",
            "Requirement already satisfied: requests in /usr/local/lib/python3.10/dist-packages (2.32.3)\n",
            "Requirement already satisfied: charset-normalizer<4,>=2 in /usr/local/lib/python3.10/dist-packages (from requests) (3.4.0)\n",
            "Requirement already satisfied: idna<4,>=2.5 in /usr/local/lib/python3.10/dist-packages (from requests) (3.10)\n",
            "Requirement already satisfied: urllib3<3,>=1.21.1 in /usr/local/lib/python3.10/dist-packages (from requests) (2.2.3)\n",
            "Requirement already satisfied: certifi>=2017.4.17 in /usr/local/lib/python3.10/dist-packages (from requests) (2024.8.30)\n"
          ]
        }
      ]
    },
    {
      "cell_type": "code",
      "execution_count": 6,
      "metadata": {
        "colab": {
          "base_uri": "https://localhost:8080/"
        },
        "id": "Y3YTsasWABR0",
        "outputId": "27dfc0ba-cd92-4692-d66e-52f3cf967275"
      },
      "outputs": [
        {
          "output_type": "stream",
          "name": "stdout",
          "text": [
            "Image has been enlarged and saved as 'enlarged_image.jpg'\n"
          ]
        }
      ],
      "source": [
        "\n",
        "from PIL import Image\n",
        "import requests\n",
        "from io import BytesIO\n",
        "\n",
        "def enlarge_image(image_url):\n",
        "    # Fetch image from the URL\n",
        "    response = requests.get(image_url)\n",
        "    if response.status_code == 200:\n",
        "        # Open the image from the response\n",
        "        img = Image.open(BytesIO(response.content))\n",
        "\n",
        "        # Get current size\n",
        "        width, height = img.size\n",
        "\n",
        "        # Enlarge the image by doubling the size\n",
        "        enlarged_img = img.resize((width * 2, height * 2))\n",
        "\n",
        "        # Show the enlarged image\n",
        "        enlarged_img.show()\n",
        "\n",
        "        # Optionally, save the enlarged image\n",
        "        enlarged_img.save(\"enlarged_image.jpg\")\n",
        "        print(\"Image has been enlarged and saved as 'enlarged_image.jpg'\")\n",
        "    else:\n",
        "        print(\"Failed to retrieve the image. HTTP Status code:\", response.status_code)\n",
        "\n",
        "# Example usage: Replace with your image URL\n",
        "image_url = \"https://upload.wikimedia.org/wikipedia/commons/c/ce/MrBeast_2023_%28cropped%29.jpg\"\n",
        "enlarge_image(image_url)\n"
      ]
    },
    {
      "cell_type": "code",
      "source": [
        "!pip install pillow requests"
      ],
      "metadata": {
        "colab": {
          "base_uri": "https://localhost:8080/"
        },
        "id": "XRXtWKZ9GckJ",
        "outputId": "79f753df-bb68-46c7-aca5-f0152ae60774"
      },
      "execution_count": 8,
      "outputs": [
        {
          "output_type": "stream",
          "name": "stdout",
          "text": [
            "Requirement already satisfied: pillow in /usr/local/lib/python3.10/dist-packages (11.0.0)\n",
            "Requirement already satisfied: requests in /usr/local/lib/python3.10/dist-packages (2.32.3)\n",
            "Requirement already satisfied: charset-normalizer<4,>=2 in /usr/local/lib/python3.10/dist-packages (from requests) (3.4.0)\n",
            "Requirement already satisfied: idna<4,>=2.5 in /usr/local/lib/python3.10/dist-packages (from requests) (3.10)\n",
            "Requirement already satisfied: urllib3<3,>=1.21.1 in /usr/local/lib/python3.10/dist-packages (from requests) (2.2.3)\n",
            "Requirement already satisfied: certifi>=2017.4.17 in /usr/local/lib/python3.10/dist-packages (from requests) (2024.8.30)\n"
          ]
        }
      ]
    },
    {
      "cell_type": "code",
      "source": [
        "from PIL import Image\n",
        "import requests\n",
        "from io import BytesIO\n",
        "\n",
        "def rotate_image(image_url):\n",
        "    # Fetch image from the URL\n",
        "    response = requests.get(image_url)\n",
        "    if response.status_code == 200:\n",
        "        # Open the image from the response\n",
        "        img = Image.open(BytesIO(response.content))\n",
        "\n",
        "        # Rotate the image 90 degrees counterclockwise\n",
        "        rotated_img = img.rotate(90, expand=True)  # `expand=True` ensures the entire image is visible\n",
        "\n",
        "        # Show the rotated image\n",
        "        rotated_img.show()\n",
        "\n",
        "        # Optionally, save the rotated image\n",
        "        rotated_img.save(\"rotated_image.jpg\")\n",
        "        print(\"Image has been rotated by 90 degrees and saved as 'rotated_image.jpg'\")\n",
        "    else:\n",
        "        print(\"Failed to retrieve the image. HTTP Status code:\", response.status_code)\n",
        "\n",
        "# Example usage: Replace with your image URL\n",
        "# The original URL was missing an 'h' in 'https'\n",
        "image_url = \"https://upload.wikimedia.org/wikipedia/commons/c/ce/MrBeast_2023_%28cropped%29.jpg\"\n",
        "rotate_image(image_url)"
      ],
      "metadata": {
        "colab": {
          "base_uri": "https://localhost:8080/"
        },
        "id": "KACJ5ntoGI_i",
        "outputId": "301f6e9a-5dbd-4625-80f4-171d980490de"
      },
      "execution_count": 10,
      "outputs": [
        {
          "output_type": "stream",
          "name": "stdout",
          "text": [
            "Image has been rotated by 90 degrees and saved as 'rotated_image.jpg'\n"
          ]
        }
      ]
    },
    {
      "cell_type": "code",
      "source": [
        "!pip install mediapipe opencv-python requests numpy\n"
      ],
      "metadata": {
        "colab": {
          "base_uri": "https://localhost:8080/"
        },
        "id": "U8C98xw3H33S",
        "outputId": "1fc499e9-7109-4364-a853-111234eecf07"
      },
      "execution_count": 16,
      "outputs": [
        {
          "output_type": "stream",
          "name": "stdout",
          "text": [
            "Collecting mediapipe\n",
            "  Downloading mediapipe-0.10.18-cp310-cp310-manylinux_2_17_x86_64.manylinux2014_x86_64.whl.metadata (9.7 kB)\n",
            "Requirement already satisfied: opencv-python in /usr/local/lib/python3.10/dist-packages (4.10.0.84)\n",
            "Requirement already satisfied: requests in /usr/local/lib/python3.10/dist-packages (2.32.3)\n",
            "Requirement already satisfied: numpy in /usr/local/lib/python3.10/dist-packages (1.26.4)\n",
            "Requirement already satisfied: absl-py in /usr/local/lib/python3.10/dist-packages (from mediapipe) (1.4.0)\n",
            "Requirement already satisfied: attrs>=19.1.0 in /usr/local/lib/python3.10/dist-packages (from mediapipe) (24.2.0)\n",
            "Requirement already satisfied: flatbuffers>=2.0 in /usr/local/lib/python3.10/dist-packages (from mediapipe) (24.3.25)\n",
            "Requirement already satisfied: jax in /usr/local/lib/python3.10/dist-packages (from mediapipe) (0.4.33)\n",
            "Requirement already satisfied: jaxlib in /usr/local/lib/python3.10/dist-packages (from mediapipe) (0.4.33)\n",
            "Requirement already satisfied: matplotlib in /usr/local/lib/python3.10/dist-packages (from mediapipe) (3.8.0)\n",
            "Requirement already satisfied: opencv-contrib-python in /usr/local/lib/python3.10/dist-packages (from mediapipe) (4.10.0.84)\n",
            "Requirement already satisfied: protobuf<5,>=4.25.3 in /usr/local/lib/python3.10/dist-packages (from mediapipe) (4.25.5)\n",
            "Collecting sounddevice>=0.4.4 (from mediapipe)\n",
            "  Downloading sounddevice-0.5.1-py3-none-any.whl.metadata (1.4 kB)\n",
            "Requirement already satisfied: sentencepiece in /usr/local/lib/python3.10/dist-packages (from mediapipe) (0.2.0)\n",
            "Requirement already satisfied: charset-normalizer<4,>=2 in /usr/local/lib/python3.10/dist-packages (from requests) (3.4.0)\n",
            "Requirement already satisfied: idna<4,>=2.5 in /usr/local/lib/python3.10/dist-packages (from requests) (3.10)\n",
            "Requirement already satisfied: urllib3<3,>=1.21.1 in /usr/local/lib/python3.10/dist-packages (from requests) (2.2.3)\n",
            "Requirement already satisfied: certifi>=2017.4.17 in /usr/local/lib/python3.10/dist-packages (from requests) (2024.8.30)\n",
            "Requirement already satisfied: CFFI>=1.0 in /usr/local/lib/python3.10/dist-packages (from sounddevice>=0.4.4->mediapipe) (1.17.1)\n",
            "Requirement already satisfied: ml-dtypes>=0.2.0 in /usr/local/lib/python3.10/dist-packages (from jax->mediapipe) (0.4.1)\n",
            "Requirement already satisfied: opt-einsum in /usr/local/lib/python3.10/dist-packages (from jax->mediapipe) (3.4.0)\n",
            "Requirement already satisfied: scipy>=1.10 in /usr/local/lib/python3.10/dist-packages (from jax->mediapipe) (1.13.1)\n",
            "Requirement already satisfied: contourpy>=1.0.1 in /usr/local/lib/python3.10/dist-packages (from matplotlib->mediapipe) (1.3.1)\n",
            "Requirement already satisfied: cycler>=0.10 in /usr/local/lib/python3.10/dist-packages (from matplotlib->mediapipe) (0.12.1)\n",
            "Requirement already satisfied: fonttools>=4.22.0 in /usr/local/lib/python3.10/dist-packages (from matplotlib->mediapipe) (4.55.0)\n",
            "Requirement already satisfied: kiwisolver>=1.0.1 in /usr/local/lib/python3.10/dist-packages (from matplotlib->mediapipe) (1.4.7)\n",
            "Requirement already satisfied: packaging>=20.0 in /usr/local/lib/python3.10/dist-packages (from matplotlib->mediapipe) (24.2)\n",
            "Requirement already satisfied: pillow>=6.2.0 in /usr/local/lib/python3.10/dist-packages (from matplotlib->mediapipe) (11.0.0)\n",
            "Requirement already satisfied: pyparsing>=2.3.1 in /usr/local/lib/python3.10/dist-packages (from matplotlib->mediapipe) (3.2.0)\n",
            "Requirement already satisfied: python-dateutil>=2.7 in /usr/local/lib/python3.10/dist-packages (from matplotlib->mediapipe) (2.8.2)\n",
            "Requirement already satisfied: pycparser in /usr/local/lib/python3.10/dist-packages (from CFFI>=1.0->sounddevice>=0.4.4->mediapipe) (2.22)\n",
            "Requirement already satisfied: six>=1.5 in /usr/local/lib/python3.10/dist-packages (from python-dateutil>=2.7->matplotlib->mediapipe) (1.16.0)\n",
            "Downloading mediapipe-0.10.18-cp310-cp310-manylinux_2_17_x86_64.manylinux2014_x86_64.whl (36.1 MB)\n",
            "\u001b[2K   \u001b[90m━━━━━━━━━━━━━━━━━━━━━━━━━━━━━━━━━━━━━━━━\u001b[0m \u001b[32m36.1/36.1 MB\u001b[0m \u001b[31m44.1 MB/s\u001b[0m eta \u001b[36m0:00:00\u001b[0m\n",
            "\u001b[?25hDownloading sounddevice-0.5.1-py3-none-any.whl (32 kB)\n",
            "Installing collected packages: sounddevice, mediapipe\n",
            "Successfully installed mediapipe-0.10.18 sounddevice-0.5.1\n"
          ]
        }
      ]
    },
    {
      "cell_type": "code",
      "source": [
        "import cv2\n",
        "import mediapipe as mp\n",
        "import requests\n",
        "import numpy as np\n",
        "from io import BytesIO\n",
        "from PIL import Image\n",
        "\n",
        "def remove_background_mediapipe(image_url):\n",
        "    # Fetch the image from the URL\n",
        "    response = requests.get(image_url)\n",
        "    if response.status_code == 200:\n",
        "        # Open the image from the response\n",
        "        img = Image.open(BytesIO(response.content))\n",
        "        img = np.array(img)\n",
        "\n",
        "        # Convert image to RGB\n",
        "        img_rgb = cv2.cvtColor(img, cv2.COLOR_BGR2RGB)\n",
        "\n",
        "        # Initialize MediaPipe Selfie Segmentation\n",
        "        mp_selfie_segmentation = mp.solutions.selfie_segmentation\n",
        "        with mp_selfie_segmentation.SelfieSegmentation(model_selection=1) as segmenter:\n",
        "            # Perform segmentation\n",
        "            results = segmenter.process(img_rgb)\n",
        "\n",
        "            # Create a mask of the person\n",
        "            condition = np.stack((results.segmentation_mask,) * 3, axis=-1) > 0.5\n",
        "\n",
        "            # Prepare the background (white in this case)\n",
        "            background = np.ones_like(img, dtype=np.uint8) * 255  # White background\n",
        "            # Combine background and the foreground\n",
        "            output_image = np.where(condition, img, background)\n",
        "\n",
        "            # Convert output to image\n",
        "            output_img = cv2.cvtColor(output_image, cv2.COLOR_BGR2RGB)\n",
        "\n",
        "            # Show the result\n",
        "            result_img = Image.fromarray(output_img)\n",
        "            result_img.show()\n",
        "\n",
        "            # Optionally, save the image with removed background\n",
        "            result_img.save(\"removed_background.png\")\n",
        "            print(\"Background removed and image saved as 'removed_background.png'\")\n",
        "    else:\n",
        "        print(\"Failed to retrieve the image. HTTP Status code:\", response.status_code)\n",
        "\n",
        "# Example usage: Replace with your image URL\n",
        "image_url = \"https://vignette.wikia.nocookie.net/gameofthrones/images/2/25/707_Daenerys_Profil.jpg/revision/latest?cb=20170829215522&path-prefix=de\"\n",
        "remove_background_mediapipe(image_url)\n"
      ],
      "metadata": {
        "colab": {
          "base_uri": "https://localhost:8080/"
        },
        "id": "5QVSGS2VH4F4",
        "outputId": "e516e45c-5a45-4629-8c5e-b7a69b6f1cdd"
      },
      "execution_count": 17,
      "outputs": [
        {
          "output_type": "stream",
          "name": "stdout",
          "text": [
            "Background removed and image saved as 'removed_background.png'\n"
          ]
        }
      ]
    },
    {
      "cell_type": "code",
      "source": [
        "!pip install pillow requests numpy\n"
      ],
      "metadata": {
        "colab": {
          "base_uri": "https://localhost:8080/"
        },
        "id": "Ps7GuctzJTcC",
        "outputId": "1a985567-9452-48ce-fa49-0c00bb676d89"
      },
      "execution_count": 19,
      "outputs": [
        {
          "output_type": "stream",
          "name": "stdout",
          "text": [
            "Requirement already satisfied: pillow in /usr/local/lib/python3.10/dist-packages (11.0.0)\n",
            "Requirement already satisfied: requests in /usr/local/lib/python3.10/dist-packages (2.32.3)\n",
            "Requirement already satisfied: numpy in /usr/local/lib/python3.10/dist-packages (1.26.4)\n",
            "Requirement already satisfied: charset-normalizer<4,>=2 in /usr/local/lib/python3.10/dist-packages (from requests) (3.4.0)\n",
            "Requirement already satisfied: idna<4,>=2.5 in /usr/local/lib/python3.10/dist-packages (from requests) (3.10)\n",
            "Requirement already satisfied: urllib3<3,>=1.21.1 in /usr/local/lib/python3.10/dist-packages (from requests) (2.2.3)\n",
            "Requirement already satisfied: certifi>=2017.4.17 in /usr/local/lib/python3.10/dist-packages (from requests) (2024.8.30)\n"
          ]
        }
      ]
    },
    {
      "cell_type": "code",
      "source": [
        "import requests\n",
        "from PIL import Image, ImageEnhance\n",
        "import numpy as np\n",
        "from io import BytesIO\n",
        "\n",
        "def change_image_color(image_url, color_filter='grayscale'):\n",
        "    # Fetch the image from the URL\n",
        "    response = requests.get(image_url)\n",
        "    if response.status_code == 200:\n",
        "        # Open the image from the response\n",
        "        img = Image.open(BytesIO(response.content))\n",
        "\n",
        "        if color_filter == 'grayscale':\n",
        "            # Convert the image to grayscale\n",
        "            img = img.convert('L')\n",
        "\n",
        "        elif color_filter == 'enhance':\n",
        "            # Enhance the color of the image (increase saturation)\n",
        "            enhancer = ImageEnhance.Color(img)\n",
        "            img = enhancer.enhance(2)  # Increase saturation by 2x (you can adjust this value)\n",
        "\n",
        "        elif color_filter == 'invert':\n",
        "            # Invert the colors of the image\n",
        "            img = np.array(img)\n",
        "            img = 255 - img  # Inverts colors\n",
        "            img = Image.fromarray(img)\n",
        "\n",
        "        # Show the modified image\n",
        "        img.show()\n",
        "\n",
        "        # Optionally, save the modified image\n",
        "        img.save(\"modified_image.png\")\n",
        "        print(f\"Image color changed and saved as 'modified_image.png'\")\n",
        "    else:\n",
        "        print(\"Failed to retrieve the image. HTTP Status code:\", response.status_code)\n",
        "\n",
        "# Example usage: Replace with your image URL and the color filter you want\n",
        "image_url = \"https://upload.wikimedia.org/wikipedia/commons/c/ce/MrBeast_2023_%28cropped%29.jpg\"\n",
        "change_image_color(image_url, color_filter='grayscale')  # Change to grayscale\n",
        "# change_image_color(image_url, color_filter='enhance')  # Apply color enhancement\n",
        "# change_image_color(image_url, color_filter='invert')  # Invert the colors\n"
      ],
      "metadata": {
        "colab": {
          "base_uri": "https://localhost:8080/"
        },
        "id": "LmHg0GoOJTph",
        "outputId": "2fe42575-0a0e-4d1a-f9ca-b17352e8202c"
      },
      "execution_count": 18,
      "outputs": [
        {
          "output_type": "stream",
          "name": "stdout",
          "text": [
            "Image color changed and saved as 'modified_image.png'\n"
          ]
        }
      ]
    },
    {
      "cell_type": "code",
      "source": [
        "!pip install pillow requests\n",
        "\n"
      ],
      "metadata": {
        "colab": {
          "base_uri": "https://localhost:8080/"
        },
        "id": "GigPZuZXKUVy",
        "outputId": "23d75b77-45b5-4e47-880c-cf0c15c0349d"
      },
      "execution_count": 20,
      "outputs": [
        {
          "output_type": "stream",
          "name": "stdout",
          "text": [
            "Requirement already satisfied: pillow in /usr/local/lib/python3.10/dist-packages (11.0.0)\n",
            "Requirement already satisfied: requests in /usr/local/lib/python3.10/dist-packages (2.32.3)\n",
            "Requirement already satisfied: charset-normalizer<4,>=2 in /usr/local/lib/python3.10/dist-packages (from requests) (3.4.0)\n",
            "Requirement already satisfied: idna<4,>=2.5 in /usr/local/lib/python3.10/dist-packages (from requests) (3.10)\n",
            "Requirement already satisfied: urllib3<3,>=1.21.1 in /usr/local/lib/python3.10/dist-packages (from requests) (2.2.3)\n",
            "Requirement already satisfied: certifi>=2017.4.17 in /usr/local/lib/python3.10/dist-packages (from requests) (2024.8.30)\n"
          ]
        }
      ]
    },
    {
      "cell_type": "code",
      "source": [
        "import requests\n",
        "from PIL import Image\n",
        "from io import BytesIO\n",
        "\n",
        "def combine_images_vertically(image_url1, image_url2, output_filename=\"combined_image.jpg\"):\n",
        "    # Fetch the first image from the URL\n",
        "    response1 = requests.get(image_url1)\n",
        "    if response1.status_code == 200:\n",
        "        img1 = Image.open(BytesIO(response1.content))\n",
        "    else:\n",
        "        print(\"Failed to retrieve the first image.\")\n",
        "        return\n",
        "\n",
        "    # Fetch the second image from the URL\n",
        "    response2 = requests.get(image_url2)\n",
        "    if response2.status_code == 200:\n",
        "        img2 = Image.open(BytesIO(response2.content))\n",
        "    else:\n",
        "        print(\"Failed to retrieve the second image.\")\n",
        "        return\n",
        "\n",
        "    # Get the width of the wider image and the height of both images\n",
        "    width1, height1 = img1.size\n",
        "    width2, height2 = img2.size\n",
        "    combined_width = max(width1, width2)\n",
        "    combined_height = height1 + height2\n",
        "\n",
        "    # Create a new image with the combined height and the maximum width\n",
        "    combined_img = Image.new('RGB', (combined_width, combined_height))\n",
        "\n",
        "    # Paste the first image (top)\n",
        "    combined_img.paste(img1, (0, 0))\n",
        "\n",
        "    # Paste the second image (bottom)\n",
        "    combined_img.paste(img2, (0, height1))\n",
        "\n",
        "    # Save the combined image as JPG\n",
        "    combined_img.save(output_filename, \"JPEG\")\n",
        "    print(f\"Images combined and saved as '{output_filename}'\")\n",
        "\n",
        "    # Show the result\n",
        "    combined_img.show()\n",
        "\n",
        "# Example usage: Replace with the URLs of the images you want to combine\n",
        "image_url1 = \"https://upload.wikimedia.org/wikipedia/commons/c/ce/MrBeast_2023_%28cropped%29.jpg\"\n",
        "image_url2 = \"https://upload.wikimedia.org/wikipedia/commons/c/ce/MrBeast_2023_%28cropped%29.jpg\"\n",
        "combine_images_vertically(image_url1, image_url2)\n"
      ],
      "metadata": {
        "colab": {
          "base_uri": "https://localhost:8080/"
        },
        "id": "wNX8OMjlKVHK",
        "outputId": "9db6c026-9f41-43d3-c578-1898e8255b4a"
      },
      "execution_count": 21,
      "outputs": [
        {
          "output_type": "stream",
          "name": "stdout",
          "text": [
            "Images combined and saved as 'combined_image.jpg'\n"
          ]
        }
      ]
    }
  ]
}