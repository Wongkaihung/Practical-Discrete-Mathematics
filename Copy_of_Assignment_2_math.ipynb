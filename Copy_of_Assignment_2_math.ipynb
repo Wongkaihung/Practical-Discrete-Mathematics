{
  "nbformat": 4,
  "nbformat_minor": 0,
  "metadata": {
    "colab": {
      "provenance": [],
      "authorship_tag": "ABX9TyN1CzfBQXd2Wtz9LBMFPjRO",
      "include_colab_link": true
    },
    "kernelspec": {
      "name": "python3",
      "display_name": "Python 3"
    },
    "language_info": {
      "name": "python"
    }
  },
  "cells": [
    {
      "cell_type": "markdown",
      "metadata": {
        "id": "view-in-github",
        "colab_type": "text"
      },
      "source": [
        "<a href=\"https://colab.research.google.com/github/Wongkaihung/Practical-Discrete-Mathematics/blob/master/Copy_of_Assignment_2_math.ipynb\" target=\"_parent\"><img src=\"https://colab.research.google.com/assets/colab-badge.svg\" alt=\"Open In Colab\"/></a>"
      ]
    },
    {
      "cell_type": "markdown",
      "source": [
        "# Q2. Analyse the time complexity of the following algorithm.\n"
      ],
      "metadata": {
        "id": "TPzntvdwVlE7"
      }
    },
    {
      "cell_type": "markdown",
      "source": [
        "# a. Linear search"
      ],
      "metadata": {
        "id": "hWYZbMsrVlJz"
      }
    },
    {
      "cell_type": "markdown",
      "source": [
        "The time complexity of the Linear Search algorithm is:\n",
        "\n",
        "Best Case: 𝑂 ( 1 ) O(1) (when the target is found at the first position).\n",
        "\n",
        "Worst Case: 𝑂 ( 𝑛 ) O(n) (when the target is at the last position or not present in the list).\n",
        "\n",
        "Average Case: 𝑂 ( 𝑛 ) O(n) (when the target is somewhere in the middle, on average).\n",
        "\n"
      ],
      "metadata": {
        "id": "rYUNzlx9VlMS"
      }
    },
    {
      "cell_type": "markdown",
      "source": [
        "# b. Bubble sort"
      ],
      "metadata": {
        "id": "HrWEAArjVs8g"
      }
    },
    {
      "cell_type": "markdown",
      "source": [
        "The time complexity of the Bubble Sort algorithm is:\n",
        "\n",
        "Best Case: 𝑂 ( 𝑛 ) O(n) (if the list is already sorted, using the optimized version).\n",
        "\n",
        "Worst Case: 𝑂 ( 𝑛 2 ) O(n 2 ) (if the list is sorted in reverse order).\n",
        "\n",
        "Average Case: 𝑂 ( 𝑛 2 ) O(n 2 )."
      ],
      "metadata": {
        "id": "sOGfIvfNVs-3"
      }
    },
    {
      "cell_type": "markdown",
      "source": [
        "# C. Binary search"
      ],
      "metadata": {
        "id": "_g0EUXK8VtA5"
      }
    },
    {
      "cell_type": "markdown",
      "source": [
        "The time complexity of the binary search algorithm is:\n",
        "\n",
        "Best Case\t𝑂\n",
        "(\n",
        "1\n",
        ")\n",
        "O(1)\n",
        "\n",
        "Worst Case\t𝑂\n",
        "(\n",
        "log\n",
        "⁡\n",
        "𝑛\n",
        ")\n",
        "O(logn)\n",
        "\n",
        "Average Case\t𝑂\n",
        "(\n",
        "log\n",
        "⁡\n",
        "𝑛\n",
        ")\n",
        "O(logn)"
      ],
      "metadata": {
        "id": "tlGBhyjMVtDN"
      }
    },
    {
      "cell_type": "markdown",
      "source": [
        "# d. Radix sort"
      ],
      "metadata": {
        "id": "nI1q8oZRVlOe"
      }
    },
    {
      "cell_type": "markdown",
      "source": [
        "The time complexity of Radix Sort is:\n",
        "\n",
        "Best Case: 𝑂 ( 𝑛 ⋅ 𝑑 ) O(n⋅d)\n",
        "\n",
        "Worst Case: 𝑂 ( 𝑛 ⋅ 𝑑 ) O(n⋅d)\n",
        "\n",
        "Average Case: 𝑂 ( 𝑛 ⋅ 𝑑 ) O(n⋅d)"
      ],
      "metadata": {
        "id": "NDE5AqSdYDu4"
      }
    },
    {
      "cell_type": "markdown",
      "source": [
        "# e. Heap sort"
      ],
      "metadata": {
        "id": "65i1eCp7YDw0"
      }
    },
    {
      "cell_type": "markdown",
      "source": [
        "The time complexity of Heap Sort is:\n",
        "\n",
        "Best Case: 𝑂 ( 𝑛 log ⁡ 𝑛 ) O(nlogn)\n",
        "\n",
        "Average Case: 𝑂 ( 𝑛 log ⁡ 𝑛 ) O(nlogn)\n",
        "\n",
        "Worst Case: 𝑂 ( 𝑛 log ⁡ 𝑛 ) O(nlogn)\n",
        "\n"
      ],
      "metadata": {
        "id": "OIRZinn8YDzG"
      }
    }
  ]
}