{
  "nbformat": 4,
  "nbformat_minor": 0,
  "metadata": {
    "colab": {
      "provenance": [],
      "authorship_tag": "ABX9TyNgC4xROxjKwLWNxhUU1h3v",
      "include_colab_link": true
    },
    "kernelspec": {
      "name": "python3",
      "display_name": "Python 3"
    },
    "language_info": {
      "name": "python"
    }
  },
  "cells": [
    {
      "cell_type": "markdown",
      "metadata": {
        "id": "view-in-github",
        "colab_type": "text"
      },
      "source": [
        "<a href=\"https://colab.research.google.com/github/Wongkaihung/Practical-Discrete-Mathematics/blob/master/Copy_of_Assignment_1_math.ipynb\" target=\"_parent\"><img src=\"https://colab.research.google.com/assets/colab-badge.svg\" alt=\"Open In Colab\"/></a>"
      ]
    },
    {
      "cell_type": "markdown",
      "source": [
        "# Q1. Complete the following question adopted from About - Project Euler\n",
        "# a. You are given the following information, but you may prefer to do some\n",
        "# research for yourself.\n",
        "# 1 Jan 1900 was a Monday.\n",
        "# Thirty days has September,\n",
        "# April, June, and November.\n",
        "# All the rest have thirty-one,\n",
        "# Saving February alone,\n",
        "# Which has twenty-eight, rain or shine.\n",
        "# And on leap years, twenty-nine.\n",
        "# A leap year occurs on any year evenly divisible by 4, but not on a century unless it\n",
        "# is divisible by 400.\n",
        "# How many Sundays fell on the first of the month during the twentieth century\n",
        "# (1 Jan 1901 to 31 Dec 2000)?"
      ],
      "metadata": {
        "id": "ynOqG0Yw79jd"
      }
    },
    {
      "cell_type": "markdown",
      "source": [],
      "metadata": {
        "id": "GBlMIuaP8P20"
      }
    },
    {
      "cell_type": "code",
      "execution_count": null,
      "metadata": {
        "colab": {
          "base_uri": "https://localhost:8080/"
        },
        "id": "UmjUp9Ek65-w",
        "outputId": "610b4ced-2249-46d4-984d-cc5286f0cdf0"
      },
      "outputs": [
        {
          "output_type": "stream",
          "name": "stdout",
          "text": [
            "Number of Sundays that fell on the first of the month: 171\n"
          ]
        }
      ],
      "source": [
        "def is_leap_year(year):\n",
        "    # Leap year check: divisible by 4, but not by 100 unless also divisible by 400\n",
        "    return (year % 4 == 0 and (year % 100 != 0 or year % 400 == 0))\n",
        "\n",
        "def count_sundays_on_first(start_year, end_year):\n",
        "    # Days of the week, where 0 = Monday, 1 = Tuesday, ..., 6 = Sunday\n",
        "    current_day_of_week = 1  # 1 Jan 1901 is a Tuesday (1st Jan 1900 was Monday, so 1 Jan 1901 is Tuesday)\n",
        "    sunday_count = 0\n",
        "\n",
        "    # Number of days in each month (non-leap year and leap year)\n",
        "    months = [31, 28, 31, 30, 31, 30, 31, 31, 30, 31, 30, 31]\n",
        "\n",
        "    for year in range(start_year, end_year + 1):\n",
        "        for month in range(12):\n",
        "            # Check if the first day of the current month is a Sunday\n",
        "            if current_day_of_week == 6:  # 6 corresponds to Sunday\n",
        "                sunday_count += 1\n",
        "\n",
        "            # Update the current day of the week after the month ends\n",
        "            # Move the day of the week by the number of days in the current month\n",
        "            days_in_month = months[month]\n",
        "            if month == 1 and is_leap_year(year):  # February in a leap year\n",
        "                days_in_month = 29\n",
        "            current_day_of_week = (current_day_of_week + days_in_month) % 7\n",
        "\n",
        "    return sunday_count\n",
        "\n",
        "# Count Sundays on the first of the month from 1901 to 2000\n",
        "sundays = count_sundays_on_first(1901, 2000)\n",
        "print(f\"Number of Sundays that fell on the first of the month: {sundays}\")\n"
      ]
    },
    {
      "cell_type": "markdown",
      "source": [
        "# Answer for B"
      ],
      "metadata": {
        "id": "tmPZoOXWAzqI"
      }
    },
    {
      "cell_type": "markdown",
      "source": [
        "Final Answer:\n",
        "The total number of letters used to write out all the numbers from 1 to 1000 is:\n",
        "10,567"
      ],
      "metadata": {
        "id": "OVQoMJlTB-v6"
      }
    },
    {
      "cell_type": "markdown",
      "source": [
        "# Answer for C"
      ],
      "metadata": {
        "id": "L4BBi78gCFdY"
      }
    },
    {
      "cell_type": "code",
      "source": [
        "MOD = 10**10  # We only care about the last 10 digits\n",
        "total = 0\n",
        "\n",
        "for n in range(1, 1001):\n",
        "    total += pow(n, n, MOD)  # Compute n^n mod 10**10\n",
        "    total %= MOD  # Keep the sum within the last 10 digits\n",
        "\n",
        "print(total)\n"
      ],
      "metadata": {
        "colab": {
          "base_uri": "https://localhost:8080/"
        },
        "id": "qhmDWu-lCCFd",
        "outputId": "c5048274-4e9d-4d8a-f795-eb11ff9123c7"
      },
      "execution_count": null,
      "outputs": [
        {
          "output_type": "stream",
          "name": "stdout",
          "text": [
            "9110846700\n"
          ]
        }
      ]
    },
    {
      "cell_type": "markdown",
      "source": [
        "# Answer for D"
      ],
      "metadata": {
        "id": "U-2NenTSDXQb"
      }
    },
    {
      "cell_type": "code",
      "source": [
        "import itertools\n",
        "import string\n",
        "\n",
        "# Load the encrypted file\n",
        "with open(\"/content/math.txt\") as file:\n",
        "    encrypted_data = list(map(int, file.read().strip().split(\",\")))\n",
        "\n",
        "# Generate all possible three-letter lowercase keys\n",
        "keys = itertools.product(string.ascii_lowercase, repeat=3)\n",
        "\n",
        "# Function to decrypt using a key\n",
        "def decrypt(data, key):\n",
        "    decrypted = [char ^ ord(key[i % len(key)]) for i, char in enumerate(data)]\n",
        "    return decrypted\n",
        "\n",
        "# Check for common English words\n",
        "common_words = [\" the \", \" and \", \" of \", \" to \", \" in \"]\n",
        "\n",
        "# Try all keys\n",
        "for key_tuple in keys:\n",
        "    key = \"\".join(key_tuple)\n",
        "    decrypted_ascii = decrypt(encrypted_data, key)\n",
        "    decrypted_text = \"\".join(map(chr, decrypted_ascii))\n",
        "\n",
        "    # Check if decrypted text contains common English words\n",
        "    if all(word in decrypted_text for word in common_words):\n",
        "        print(f\"Decrypted message: {decrypted_text[:100]}...\")  # Print the first 100 characters for brevity\n",
        "        print(f\"Key: {key}\")\n",
        "        print(f\"Sum of ASCII values: {sum(decrypted_ascii)}\")\n",
        "        break\n"
      ],
      "metadata": {
        "colab": {
          "base_uri": "https://localhost:8080/"
        },
        "id": "wuqzbup3DXCf",
        "outputId": "06bd6a93-9fa4-404a-e1a4-1e8e49a7f212"
      },
      "execution_count": null,
      "outputs": [
        {
          "output_type": "stream",
          "name": "stdout",
          "text": [
            "Decrypted message: An extract taken from the introduction of one of Euler's most celebrated papers, \"De summis serierum...\n",
            "Key: exp\n",
            "Sum of ASCII values: 129448\n"
          ]
        }
      ]
    },
    {
      "cell_type": "code",
      "source": [
        "from google.colab import drive\n",
        "drive.mount('/content/drive')"
      ],
      "metadata": {
        "id": "S6BPsr_0dwb1"
      },
      "execution_count": null,
      "outputs": []
    }
  ]
}