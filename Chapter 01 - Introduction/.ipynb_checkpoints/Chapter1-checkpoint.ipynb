{
  "cells": [
    {
      "cell_type": "markdown",
      "metadata": {
        "id": "view-in-github",
        "colab_type": "text"
      },
      "source": [
        "<a href=\"https://colab.research.google.com/github/Wongkaihung/Practical-Discrete-Mathematics/blob/master/Chapter%2001%20-%20Introduction/.ipynb_checkpoints/Chapter1-checkpoint.ipynb\" target=\"_parent\"><img src=\"https://colab.research.google.com/assets/colab-badge.svg\" alt=\"Open In Colab\"/></a>"
      ]
    },
    {
      "cell_type": "markdown",
      "metadata": {
        "id": "jQqAPP3Bw8at"
      },
      "source": [
        "# Chapter 1 - Introduction: Key Concepts, Notation, Set Theory, Relations, and Functions\n",
        "\n",
        "This notebook contains code accompanying Chapter 1 Introduction: Key Concepts, Notation, Set Theory, Relations, and Functions in *Practical Discrete Mathematics* by Ryan T. White and Archana Tikayat Ray\n",
        "\n",
        "## Functions and Relations\n",
        "\n",
        "### The `sort()` function"
      ]
    },
    {
      "cell_type": "code",
      "execution_count": null,
      "metadata": {
        "id": "T7EwQJaAw8au",
        "outputId": "242990c5-dfe8-4109-ea8c-0fe137efbb09"
      },
      "outputs": [
        {
          "name": "stdout",
          "output_type": "stream",
          "text": [
            "[1, 2, 3, 4, 5, 8, 9, 12]\n",
            "['Brandon', 'Elise', 'Eugene', 'Kumar', 'Wyatt']\n"
          ]
        }
      ],
      "source": [
        "numbers = [3, 1, 4, 12, 8, 5, 2, 9]\n",
        "names = ['Wyatt', 'Brandon', 'Kumar', 'Eugene', 'Elise']\n",
        "\n",
        "# Apply the sort() function to the lists\n",
        "numbers.sort()\n",
        "names.sort()\n",
        "\n",
        "# Display the output\n",
        "print(numbers)\n",
        "print(names)"
      ]
    },
    {
      "cell_type": "markdown",
      "metadata": {
        "id": "hDWod1APw8au"
      },
      "source": [
        "### The `shuffle()` function"
      ]
    },
    {
      "cell_type": "code",
      "execution_count": null,
      "metadata": {
        "id": "bw1bz0Dzw8av",
        "outputId": "2b50b91b-e6ff-4a26-bc41-36819bbf5c86"
      },
      "outputs": [
        {
          "name": "stdout",
          "output_type": "stream",
          "text": [
            "[12, 2, 1, 5, 9, 3, 8, 4]\n",
            "[4, 2, 8, 3, 1, 12, 5, 9]\n",
            "[4, 5, 1, 9, 3, 8, 12, 2]\n",
            "[9, 12, 2, 8, 5, 3, 4, 1]\n",
            "[9, 8, 4, 3, 12, 1, 5, 2]\n"
          ]
        }
      ],
      "source": [
        "import random\n",
        "\n",
        "# Set a random seed so the code is reproducible\n",
        "random.seed(1)\n",
        "\n",
        "# Run the random.shuffle() function 5 times and display the outputs\n",
        "for i in range(0,5):\n",
        "    numbers = [3, 1, 4, 12, 8, 5, 2, 9]\n",
        "    random.shuffle(numbers)\n",
        "    print(numbers)"
      ]
    },
    {
      "cell_type": "markdown",
      "source": [
        "# ***Question:request user input of a simple proposition statement.create a truth table.***"
      ],
      "metadata": {
        "id": "6-O1RRyiw9Nw"
      }
    },
    {
      "cell_type": "code",
      "source": [
        "# prompt: request user input of a simple proposition statement create a truth table using p and q\n",
        "\n",
        "def generate_truth_table(proposition):\n",
        "  \"\"\"Generates a truth table for a proposition involving p and q.\n",
        "\n",
        "  Args:\n",
        "    proposition: A string representing the proposition, using 'p' and 'q' as\n",
        "      variables.\n",
        "\n",
        "  Returns:\n",
        "    A string representing the truth table.\n",
        "  \"\"\"\n",
        "\n",
        "  table = \"\"\n",
        "  table += \"p | q | \" + proposition + \"\\n\"\n",
        "  table += \"---+- ---+---\\n\"\n",
        "\n",
        "  for p_val in [True, False]:\n",
        "    for q_val in [True, False]:\n",
        "      p = p_val\n",
        "      q = q_val\n",
        "      # Evaluate the proposition based on the current truth values\n",
        "      result = eval(proposition)\n",
        "      table += str(p) + \" | \" + str(q) + \" | \" + str(result) + \"\\n\"\n",
        "  return table\n",
        "\n",
        "# Get user input for the proposition\n",
        "user_proposition = input(\"Enter a proposition using 'p' and 'q' (e.g., p and q): \")\n",
        "\n",
        "# Generate and print the truth table\n",
        "truth_table = generate_truth_table(user_proposition)\n",
        "truth_table"
      ],
      "metadata": {
        "id": "o9oLg19nxTOR",
        "outputId": "0b613a45-0638-4c1c-9685-27cfa3b8569a",
        "colab": {
          "base_uri": "https://localhost:8080/",
          "height": 53
        }
      },
      "execution_count": 3,
      "outputs": [
        {
          "name": "stdout",
          "output_type": "stream",
          "text": [
            "Enter a proposition using 'p' and 'q' (e.g., p and q): p and q\n"
          ]
        },
        {
          "output_type": "execute_result",
          "data": {
            "text/plain": [
              "'p | q | p and q\\n---+- ---+---\\nTrue | True | True\\nTrue | False | False\\nFalse | True | False\\nFalse | False | False\\n'"
            ],
            "application/vnd.google.colaboratory.intrinsic+json": {
              "type": "string"
            }
          },
          "metadata": {},
          "execution_count": 3
        }
      ]
    }
  ],
  "metadata": {
    "kernelspec": {
      "display_name": "Python 3.7 (DL)",
      "language": "python",
      "name": "dl"
    },
    "language_info": {
      "codemirror_mode": {
        "name": "ipython",
        "version": 3
      },
      "file_extension": ".py",
      "mimetype": "text/x-python",
      "name": "python",
      "nbconvert_exporter": "python",
      "pygments_lexer": "ipython3",
      "version": "3.7.7"
    },
    "colab": {
      "provenance": [],
      "include_colab_link": true
    }
  },
  "nbformat": 4,
  "nbformat_minor": 0
}