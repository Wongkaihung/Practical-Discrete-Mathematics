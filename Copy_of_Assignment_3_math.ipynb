{
  "nbformat": 4,
  "nbformat_minor": 0,
  "metadata": {
    "colab": {
      "provenance": [],
      "authorship_tag": "ABX9TyO3Z9qxgQZiKsZ6c6RKCURB",
      "include_colab_link": true
    },
    "kernelspec": {
      "name": "python3",
      "display_name": "Python 3"
    },
    "language_info": {
      "name": "python"
    }
  },
  "cells": [
    {
      "cell_type": "markdown",
      "metadata": {
        "id": "view-in-github",
        "colab_type": "text"
      },
      "source": [
        "<a href=\"https://colab.research.google.com/github/Wongkaihung/Practical-Discrete-Mathematics/blob/master/Copy_of_Assignment_3_math.ipynb\" target=\"_parent\"><img src=\"https://colab.research.google.com/assets/colab-badge.svg\" alt=\"Open In Colab\"/></a>"
      ]
    },
    {
      "cell_type": "markdown",
      "source": [
        "# Question 3"
      ],
      "metadata": {
        "id": "brFZNP38Y1k_"
      }
    },
    {
      "cell_type": "markdown",
      "source": [
        "# You are working on a social media platform where users can follow each other The\n",
        "# platform wants to implement a feature to suggest new friends to users based on mutual\n",
        "# connections. Write a Python function suggest_friends(graph, user) that takes in a graph\n",
        "# representing social network and a specific user and return a list of suggested friends for\n",
        "# that user. The graph is represented as an adjacency list, where the keys are user IDs,\n",
        "# and the values are lists of user IDs that the key user follows. Use the given Q3.csv as\n",
        "# the dataset.\n",
        "# Requirements"
      ],
      "metadata": {
        "id": "-NRWHN9wY3af"
      }
    },
    {
      "cell_type": "markdown",
      "source": [
        "# A. Graph representation: the graph is represented as a dictionary where each key is"
      ],
      "metadata": {
        "id": "ltOaVcgwZLsi"
      }
    },
    {
      "cell_type": "code",
      "source": [
        "def suggest_friends(graph, user):\n",
        "    # Check if the user exists in the graph\n",
        "    if user not in graph:\n",
        "        return []\n",
        "\n",
        "    # Get the list of people the user follows\n",
        "    followed_by_user = set(graph[user])\n",
        "\n",
        "    # Set to store suggested friends\n",
        "    suggested_friends = set()\n",
        "\n",
        "    # Loop through each person that the user follows\n",
        "    for follower in followed_by_user:\n",
        "        # Check if the follower exists in the graph\n",
        "        if follower not in graph:\n",
        "            continue\n",
        "\n",
        "        # Get the people the follower follows\n",
        "        followed_by_follower = set(graph[follower])\n",
        "\n",
        "        # Find mutual friends (excluding the user and already followed users)\n",
        "        for potential_friend in followed_by_follower:\n",
        "            if potential_friend != user and potential_friend not in followed_by_user:\n",
        "                suggested_friends.add(potential_friend)\n",
        "\n",
        "    # Return the suggested friends as a list\n",
        "    return list(suggested_friends)\n"
      ],
      "metadata": {
        "id": "VMVQ_rhFZJLU"
      },
      "execution_count": 8,
      "outputs": []
    },
    {
      "cell_type": "markdown",
      "source": [
        "# b. Mutual connection: the function should suggest friends based on the number of\n",
        "# mutual connections. A mutual connection is a user who is followed by both the\n",
        "# given user and another user."
      ],
      "metadata": {
        "id": "n1OnWN27ZQRG"
      }
    },
    {
      "cell_type": "code",
      "execution_count": 9,
      "metadata": {
        "colab": {
          "base_uri": "https://localhost:8080/"
        },
        "id": "LdMDDcn-XCWs",
        "outputId": "d91ed7b8-e7ee-4c9f-d61f-faee0a1bac1f"
      },
      "outputs": [
        {
          "output_type": "stream",
          "name": "stdout",
          "text": [
            "['Eve', 'Frank']\n"
          ]
        }
      ],
      "source": [
        "def suggest_friends(user, following_data):\n",
        "    \"\"\"\n",
        "    Suggest friends for a user based on the number of mutual connections.\n",
        "\n",
        "    :param user: The user for whom to suggest friends (string).\n",
        "    :param following_data: A dictionary where keys are users and values are sets of users they follow.\n",
        "    :return: A list of suggested friends sorted by the number of mutual connections (descending).\n",
        "    \"\"\"\n",
        "    if user not in following_data:\n",
        "        return []\n",
        "\n",
        "    # Users the given user follows\n",
        "    user_follows = following_data[user]\n",
        "\n",
        "    # Dictionary to store mutual connection counts\n",
        "    mutual_connection_counts = {}\n",
        "\n",
        "    # Iterate over the users the given user follows\n",
        "    for followed in user_follows:\n",
        "        # Check users followed by the currently followed user\n",
        "        for potential_friend in following_data.get(followed, set()):\n",
        "            if potential_friend != user and potential_friend not in user_follows:\n",
        "                # Increment the mutual connection count for the potential friend\n",
        "                mutual_connection_counts[potential_friend] = (\n",
        "                    mutual_connection_counts.get(potential_friend, 0) + 1\n",
        "                )\n",
        "\n",
        "    # Sort the suggestions based on mutual connections (descending) and alphabetically for ties\n",
        "    sorted_suggestions = sorted(mutual_connection_counts.items(), key=lambda x: (-x[1], x[0]))\n",
        "\n",
        "    # Return only the user names\n",
        "    return [friend for friend, _ in sorted_suggestions]\n",
        "\n",
        "# Example following data\n",
        "following_data = {\n",
        "    \"Alice\": {\"Bob\", \"Charlie\", \"David\"},\n",
        "    \"Bob\": {\"Alice\", \"Eve\", \"Frank\"},\n",
        "    \"Charlie\": {\"Alice\", \"David\", \"Eve\"},\n",
        "    \"David\": {\"Alice\", \"Charlie\", \"Eve\"},\n",
        "    \"Eve\": {\"Bob\", \"David\"},\n",
        "    \"Frank\": {\"Bob\"}\n",
        "}\n",
        "\n",
        "# Test the function\n",
        "print(suggest_friends(\"Alice\", following_data))\n"
      ]
    },
    {
      "cell_type": "markdown",
      "source": [
        "# c. Sorting: the suggested friend should be sorted in descending order of the number\n",
        "## of mutual connections."
      ],
      "metadata": {
        "id": "SYSmO7sXaUeq"
      }
    },
    {
      "cell_type": "code",
      "source": [
        "import csv\n",
        "from collections import defaultdict # Fixed: Removed unexpected indentation\n",
        "\n",
        "def load_graph(file_path):\n",
        "    \"\"\"\n",
        "    Load the social network graph from a CSV file.\n",
        "    :param file_path: Path to the CSV file.\n",
        "    :return: A dictionary representing the adjacency list of the graph.\n",
        "    \"\"\"\n",
        "    graph = defaultdict(list)\n",
        "\n",
        "    with open('/content/Q3.txt') as file:\n",
        "        reader = csv.reader(file)\n",
        "        next(reader)  # Skip header row if present\n",
        "\n",
        "        for user, follows in reader:\n",
        "            graph[user].append(follows)\n",
        "\n",
        "    return graph\n",
        "\n",
        "def suggest_friends(graph, user):\n",
        "    \"\"\"\n",
        "    Suggest friends for a user based on mutual connections.\n",
        "    :param graph: Dictionary representing the social network graph.\n",
        "    :param user: The user ID for whom to suggest friends.\n",
        "    :return: List of suggested friends sorted by mutual connections.\n",
        "    \"\"\"\n",
        "    if user not in graph:\n",
        "        return []\n",
        "\n",
        "    user_follows = set(graph[user])  # Users directly followed by the given user\n",
        "    mutual_counts = defaultdict(int)\n",
        "\n",
        "    # Count mutual connections\n",
        "    for friend in user_follows:\n",
        "        for mutual in graph.get(friend, []):\n",
        "            if mutual != user and mutual not in user_follows:\n",
        "                mutual_counts[mutual] += 1\n",
        "\n",
        "    # Sort by mutual connections (descending) and alphabetically\n",
        "    return sorted(mutual_counts, key=lambda x: (-mutual_counts[x], x))\n",
        "\n",
        "# Main Program\n",
        "file_path = \"/path/to/your/Q3.csv\"  # Replace with the actual path to your Q3.csv file\n",
        "graph = load_graph(file_path)\n",
        "\n",
        "user = input(\"Enter the user ID to get friend suggestions: \")\n",
        "suggestions = suggest_friends(graph, user)\n",
        "\n",
        "print(f\"Suggested friends for {user}: {suggestions}\")"
      ],
      "metadata": {
        "id": "mmiGieGrc0ll",
        "colab": {
          "base_uri": "https://localhost:8080/"
        },
        "outputId": "243a9f67-98b2-4398-8fa7-ba968a6b03f0"
      },
      "execution_count": 10,
      "outputs": [
        {
          "output_type": "stream",
          "name": "stdout",
          "text": [
            "Enter the user ID to get friend suggestions: hh\n",
            "Suggested friends for hh: []\n"
          ]
        }
      ]
    },
    {
      "cell_type": "code",
      "source": [],
      "metadata": {
        "id": "OYUq_jjkpUQK"
      },
      "execution_count": null,
      "outputs": []
    },
    {
      "cell_type": "markdown",
      "source": [
        "# d. Exclusion: The function should NOT suggest users who are already followed\n",
        "# by the given user or the user themselves."
      ],
      "metadata": {
        "id": "hKlw9djGeO1n"
      }
    },
    {
      "cell_type": "code",
      "source": [
        "import csv\n",
        "\n",
        "# Function to suggest friends\n",
        "def suggest_friends(graph, user):\n",
        "    # Set to store suggested friends\n",
        "    suggested_friends = set()\n",
        "\n",
        "    # Check if the user exists in the graph\n",
        "    if user not in graph:\n",
        "        return []  # If the user doesn't exist in the graph, return an empty list\n",
        "\n",
        "    # Get the list of users that the given user follows\n",
        "    followed_by_user = set(graph[user])\n",
        "\n",
        "    # Loop through each user the given user follows\n",
        "    for friend in followed_by_user:\n",
        "        if friend in graph:\n",
        "            # Get friends of the friend (friends of friends)\n",
        "            friends_of_friend = set(graph[friend])\n",
        "\n",
        "            # Add friends of friends to the suggested list, excluding the user and already followed users\n",
        "            for suggested in friends_of_friend:\n",
        "                if suggested != user and suggested not in followed_by_user:\n",
        "                    suggested_friends.add(suggested)\n",
        "\n",
        "    # Return the list of suggested friends\n",
        "    return list(suggested_friends)\n",
        "\n",
        "# Function to load the dataset from a CSV file (Q3.csv)\n",
        "def load_graph_from_csv():\n",
        "    graph = {}\n",
        "\n",
        "    # Sample data for Q3.csv\n",
        "    data = [\n",
        "        ['user1', 'user2'],\n",
        "        ['user1', 'user3'],\n",
        "        ['user2', 'user4'],\n",
        "        ['user3', 'user5'],\n",
        "        ['user4', 'user6'],\n",
        "        ['user2', 'user3'],\n",
        "    ]\n",
        "\n",
        "    # Write data to a CSV file (Q3.csv)\n",
        "    csv_filename = '/content/Q3.txt'\n",
        "    with open(csv_filename, mode='w', newline='') as file:\n",
        "        writer = csv.writer(file)\n",
        "        writer.writerows(data)\n",
        "\n",
        "    # Load the CSV data into the graph\n",
        "    for row in data:\n",
        "        user, followed_user = row\n",
        "        if user not in graph:\n",
        "            graph[user] = []\n",
        "        graph[user].append(followed_user)\n",
        "\n",
        "    return graph\n",
        "\n",
        "# Example usage\n",
        "graph = load_graph_from_csv()\n",
        "\n",
        "user = 'user1'  # Replace with the user for whom you want suggestions\n",
        "suggestions = suggest_friends(graph, user)\n",
        "print(f\"Suggested friends for {user}: {suggestions}\")\n"
      ],
      "metadata": {
        "colab": {
          "base_uri": "https://localhost:8080/"
        },
        "id": "i-eih1IA6Gbt",
        "outputId": "d39e7b57-571f-4076-85ce-ec7e22395c7f"
      },
      "execution_count": 14,
      "outputs": [
        {
          "output_type": "stream",
          "name": "stdout",
          "text": [
            "Suggested friends for user1: ['user4', 'user5']\n"
          ]
        }
      ]
    }
  ]
}